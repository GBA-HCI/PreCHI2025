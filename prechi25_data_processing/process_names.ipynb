{
 "cells": [
  {
   "cell_type": "code",
   "execution_count": 1,
   "id": "3d3eebc7",
   "metadata": {},
   "outputs": [],
   "source": [
    "import pandas as pd"
   ]
  },
  {
   "cell_type": "code",
   "execution_count": 2,
   "id": "4e2a153e",
   "metadata": {},
   "outputs": [],
   "source": [
    "registrant_df = pd.read_excel(\"data/PreCHI Participants.xlsx\", sheet_name=\"Registrant\")\n",
    "sv_df = pd.read_excel(\"data/PreCHI Participants.xlsx\", sheet_name=\"Student Volunteer\")\n",
    "oc_df = pd.read_excel(\"data/PreCHI Participants.xlsx\", sheet_name=\"Organizing Committee\")\n",
    "guest_df = pd.read_excel(\"data/PreCHI Participants.xlsx\", sheet_name=\"Guest\")"
   ]
  },
  {
   "cell_type": "code",
   "execution_count": 3,
   "id": "a049b36a",
   "metadata": {},
   "outputs": [],
   "source": [
    "registrant_guest = pd.concat([guest_df, sv_df, oc_df, registrant_df], ignore_index=True)"
   ]
  },
  {
   "cell_type": "code",
   "execution_count": 4,
   "id": "ce685939",
   "metadata": {},
   "outputs": [
    {
     "data": {
      "application/vnd.microsoft.datawrangler.viewer.v0+json": {
       "columns": [
        {
         "name": "index",
         "rawType": "int64",
         "type": "integer"
        },
        {
         "name": "Name",
         "rawType": "object",
         "type": "string"
        },
        {
         "name": "Organization",
         "rawType": "object",
         "type": "string"
        },
        {
         "name": "Email",
         "rawType": "object",
         "type": "string"
        }
       ],
       "conversionMethod": "pd.DataFrame",
       "ref": "a931d900-98ff-4727-91ff-80c88d8e8bd1",
       "rows": [
        [
         "0",
         "Xiaohua SUN",
         "Southern University of Science and Technology",
         "sunxh@sustech.edu.cn"
        ],
        [
         "1",
         "Yuxin MA",
         "Southern University of Science and Technology",
         "mayx@sustech.edu.cn"
        ],
        [
         "2",
         "Minghui SUN",
         "Jilin University",
         "smh@jlu.edu.cn"
        ],
        [
         "3",
         "Zhiyong FU",
         "Tsinghua University",
         "fuzhiyong@tsinghua.edu.cn"
        ],
        [
         "4",
         "Haipeng MI",
         "Tsinghua University",
         "mhp@tsinghua.edu.cn"
        ],
        [
         "5",
         "Yingying SHEW",
         "Xiamen University",
         "yingyingshe@xmu.edu.cn"
        ],
        [
         "6",
         "Guihuan FENG",
         "Nanjing University",
         "fenggh@nju.edu.cn"
        ],
        [
         "7",
         "Haining LIANG",
         "The Hong Kong University of Science and Technology (Guangzhou))",
         "hainingliang@hkust-gz.edu.cn"
        ],
        [
         "8",
         "Boyu GAO",
         "Jinan University",
         "bygao@jnu.edu.cn"
        ],
        [
         "9",
         "Wei Liu",
         "Southern University of Science and Technology",
         "liuwei.dk@gmail.com"
        ],
        [
         "10",
         "Runze CAI",
         "National University of Singapore",
         "runze.cai@u.nus.edu"
        ],
        [
         "11",
         "Yuqi WANG",
         "Hong Kong Polytechnic University",
         "wyuqi5711@gmail.com"
        ],
        [
         "12",
         "Shiwei WU",
         "Sun Yat-Sen University",
         "wushw28@mail2.sysu.edu.cn"
        ],
        [
         "13",
         "Hongni YE",
         "The Hong Kong University of Science and Technology (Guangzhou))",
         "hye526@connect.hkust-gz.edu.cn"
        ],
        [
         "14",
         "Zixiao LIU",
         "Beihang University",
         "liuzixiao26@163.com"
        ],
        [
         "15",
         "Yuan XU",
         "The Hong Kong University of Science and Technology (Guangzhou))",
         "mawxuanxuan@gmail.com"
        ],
        [
         "16",
         "Yuhao SUN",
         "University of Edinburgh",
         "yuhao.sun@ed.ac.uk"
        ],
        [
         "17",
         "Liquan QIAN",
         "City University of Macau",
         "yage2028@163.com"
        ],
        [
         "18",
         "Yuqi HUANG",
         "Southern University of Science and Technology",
         "12333224@mail.sustech.edu.cn"
        ],
        [
         "19",
         "Zining WANG",
         "Fudan University",
         "zoiiiiie@163.com"
        ],
        [
         "20",
         "Zhenhao ZHANG",
         "Southern University of Science and Technology",
         "zhenhao_z@163.com"
        ],
        [
         "21",
         "Ru LI",
         "Beijing Institute of Technology",
         "3587458637@qq.com"
        ],
        [
         "22",
         "Zhen ZHAO",
         "Hong Kong Polytechnic University",
         "zoezhen.zhao@connect.polyu.hk"
        ],
        [
         "23",
         "Liangwei WANG",
         "The Hong Kong University of Science and Technology (Guangzhou))",
         "lwang344@connect.hkust-gz.edu.cn"
        ],
        [
         "24",
         "Zeyu HUANG",
         "The Hong Kong University of Science and Technology",
         "zhuangbi@connect.ust.hk"
        ],
        [
         "25",
         "Xi ZHENG",
         "City University of Hong Kong",
         "zheng.xi@my.cityu.edu.hk"
        ],
        [
         "26",
         "Zhuangtong HUANG",
         "University of Macau",
         "huangzhuangtong@gmail.com"
        ],
        [
         "27",
         "Yi XU",
         "City University of Hong Kong",
         "yixu98@cityu.edu.hk"
        ],
        [
         "28",
         "Jinghong LIN",
         "City University of Hong Kong",
         "jinghlin@um.cityu.edu.hk"
        ],
        [
         "29",
         "Yu'an CHEN",
         "City University of Hong Kong",
         "ychen2878-c@my.cityu.edu.hk"
        ],
        [
         "30",
         "Can LIU",
         "City University of Hong Kong",
         "canliu@cityu.edu.hk"
        ],
        [
         "31",
         "Yuhan LUO",
         "City University of Hong Kong",
         "yuhanluo@cityu.edu.hk"
        ],
        [
         "32",
         "Xiaoyu ZHANG",
         "City University of Hong Kong",
         "xiaoyu.zhang@cityu.edu.hk"
        ],
        [
         "33",
         "Ye WANG",
         "University of Macau",
         "wangye@um.edu.mo"
        ],
        [
         "34",
         "Shengdong ZHAO",
         "City University of Hong Kong",
         "shengdong.zhao@cityu.edu.hk"
        ],
        [
         "35",
         "Hanfang LYU",
         "The Hong Kong University of Science and Technology",
         "hanfang.lyu@connect.ust.hk"
        ],
        [
         "36",
         "Rui YAO",
         "City University of Hong Kong",
         "yaorui2-c@my.cityu.edu.hk"
        ],
        [
         "37",
         "Luoying LIN",
         "City University of Hong Kong",
         "Lin.luoying@cityu.edu.hk"
        ],
        [
         "38",
         "Zihao ZHU",
         "City University of Hong Kong",
         "zihaozhu9-c@my.cityu.edu.hk"
        ],
        [
         "39",
         "Zihao ZENG",
         "The Hong Kong University of Science and Technology",
         "zzengay@connect.ust.hk"
        ],
        [
         "40",
         "Yandi Lu",
         "The Hong Kong Polytechnic University",
         "andy.luyd@gmail.com"
        ],
        [
         "41",
         "Jiawen ZHANG ",
         "The Hong Kong Polytechnic University",
         "zjw1402101355@gmail.com"
        ],
        [
         "42",
         "Ning QIN",
         "Macau Polytechnic University",
         "1248369783@qq.com"
        ],
        [
         "43",
         "Xiao Yang",
         "The Hong Kong University of Science and Technology (Guangzhou)",
         "xyang856@connect.hkust-gz.edu.cn"
        ],
        [
         "44",
         "Yufeng Zeng",
         "The Hong Kong University of Science and Technology (Guangzhou)",
         "rocky12132334@gmail.com"
        ],
        [
         "45",
         "Ziqian Bai",
         "Southern University of Science and Technology",
         "baizq@sustech.edu.cn"
        ],
        [
         "46",
         "Yichang LIU",
         "The Hong Kong University of Science and Technology (Guangzhou)",
         "yliu310@connect.hkust-gz.edu.cn"
        ],
        [
         "47",
         "Yuanzhen LIU ",
         "The University of Hong Kong",
         "iyzliu97@outlook.com"
        ],
        [
         "48",
         "Congrong CAI",
         "Zhaoqing University",
         "rongcongcai@foxmail.com"
        ],
        [
         "49",
         "Kellan Zhang",
         "Technical University of Munich",
         "yueze1122@gmail.com"
        ]
       ],
       "shape": {
        "columns": 3,
        "rows": 194
       }
      },
      "text/html": [
       "<div>\n",
       "<style scoped>\n",
       "    .dataframe tbody tr th:only-of-type {\n",
       "        vertical-align: middle;\n",
       "    }\n",
       "\n",
       "    .dataframe tbody tr th {\n",
       "        vertical-align: top;\n",
       "    }\n",
       "\n",
       "    .dataframe thead th {\n",
       "        text-align: right;\n",
       "    }\n",
       "</style>\n",
       "<table border=\"1\" class=\"dataframe\">\n",
       "  <thead>\n",
       "    <tr style=\"text-align: right;\">\n",
       "      <th></th>\n",
       "      <th>Name</th>\n",
       "      <th>Organization</th>\n",
       "      <th>Email</th>\n",
       "    </tr>\n",
       "  </thead>\n",
       "  <tbody>\n",
       "    <tr>\n",
       "      <th>0</th>\n",
       "      <td>Xiaohua SUN</td>\n",
       "      <td>Southern University of Science and Technology</td>\n",
       "      <td>sunxh@sustech.edu.cn</td>\n",
       "    </tr>\n",
       "    <tr>\n",
       "      <th>1</th>\n",
       "      <td>Yuxin MA</td>\n",
       "      <td>Southern University of Science and Technology</td>\n",
       "      <td>mayx@sustech.edu.cn</td>\n",
       "    </tr>\n",
       "    <tr>\n",
       "      <th>2</th>\n",
       "      <td>Minghui SUN</td>\n",
       "      <td>Jilin University</td>\n",
       "      <td>smh@jlu.edu.cn</td>\n",
       "    </tr>\n",
       "    <tr>\n",
       "      <th>3</th>\n",
       "      <td>Zhiyong FU</td>\n",
       "      <td>Tsinghua University</td>\n",
       "      <td>fuzhiyong@tsinghua.edu.cn</td>\n",
       "    </tr>\n",
       "    <tr>\n",
       "      <th>4</th>\n",
       "      <td>Haipeng MI</td>\n",
       "      <td>Tsinghua University</td>\n",
       "      <td>mhp@tsinghua.edu.cn</td>\n",
       "    </tr>\n",
       "    <tr>\n",
       "      <th>...</th>\n",
       "      <td>...</td>\n",
       "      <td>...</td>\n",
       "      <td>...</td>\n",
       "    </tr>\n",
       "    <tr>\n",
       "      <th>189</th>\n",
       "      <td>Huanchen WANG</td>\n",
       "      <td>Southern University of Science and Technology</td>\n",
       "      <td>wanghc2022@mail.sustech.edu.cn</td>\n",
       "    </tr>\n",
       "    <tr>\n",
       "      <th>190</th>\n",
       "      <td>Minhui LIANG</td>\n",
       "      <td>City University of Hong Kong</td>\n",
       "      <td>mhliang4-c@my.cityu.edu.hk</td>\n",
       "    </tr>\n",
       "    <tr>\n",
       "      <th>191</th>\n",
       "      <td>Qian WAN</td>\n",
       "      <td>City University of Hong Kong</td>\n",
       "      <td>llewynwan2017@gmail.com</td>\n",
       "    </tr>\n",
       "    <tr>\n",
       "      <th>192</th>\n",
       "      <td>Kexue FU</td>\n",
       "      <td>City University of Hong Kong</td>\n",
       "      <td>kexuefu2-c@my.cityu.edu.hk</td>\n",
       "    </tr>\n",
       "    <tr>\n",
       "      <th>193</th>\n",
       "      <td>Zhida Sun</td>\n",
       "      <td>Shenzhen University</td>\n",
       "      <td>zhida.sun@connect.ust.hk</td>\n",
       "    </tr>\n",
       "  </tbody>\n",
       "</table>\n",
       "<p>194 rows × 3 columns</p>\n",
       "</div>"
      ],
      "text/plain": [
       "              Name                                   Organization  \\\n",
       "0      Xiaohua SUN  Southern University of Science and Technology   \n",
       "1         Yuxin MA  Southern University of Science and Technology   \n",
       "2      Minghui SUN                               Jilin University   \n",
       "3       Zhiyong FU                            Tsinghua University   \n",
       "4       Haipeng MI                            Tsinghua University   \n",
       "..             ...                                            ...   \n",
       "189  Huanchen WANG  Southern University of Science and Technology   \n",
       "190   Minhui LIANG                   City University of Hong Kong   \n",
       "191       Qian WAN                   City University of Hong Kong   \n",
       "192       Kexue FU                   City University of Hong Kong   \n",
       "193      Zhida Sun                            Shenzhen University   \n",
       "\n",
       "                              Email  \n",
       "0              sunxh@sustech.edu.cn  \n",
       "1               mayx@sustech.edu.cn  \n",
       "2                    smh@jlu.edu.cn  \n",
       "3         fuzhiyong@tsinghua.edu.cn  \n",
       "4               mhp@tsinghua.edu.cn  \n",
       "..                              ...  \n",
       "189  wanghc2022@mail.sustech.edu.cn  \n",
       "190      mhliang4-c@my.cityu.edu.hk  \n",
       "191         llewynwan2017@gmail.com  \n",
       "192      kexuefu2-c@my.cityu.edu.hk  \n",
       "193        zhida.sun@connect.ust.hk  \n",
       "\n",
       "[194 rows x 3 columns]"
      ]
     },
     "execution_count": 4,
     "metadata": {},
     "output_type": "execute_result"
    }
   ],
   "source": [
    "registrant_guest"
   ]
  },
  {
   "cell_type": "code",
   "execution_count": 5,
   "id": "47ab89e2",
   "metadata": {},
   "outputs": [],
   "source": [
    "# unique registrant names\n",
    "unique_registrants = registrant_guest[['Name']].drop_duplicates()"
   ]
  },
  {
   "cell_type": "code",
   "execution_count": 6,
   "id": "39e7a939",
   "metadata": {},
   "outputs": [],
   "source": [
    "# remove oc_df names from unique registrants\n",
    "unique_registrants = unique_registrants[~unique_registrants['Name'].isin(oc_df['Name'])]"
   ]
  },
  {
   "cell_type": "code",
   "execution_count": 7,
   "id": "d69be58b",
   "metadata": {},
   "outputs": [],
   "source": [
    "unique_registrants.to_excel(\n",
    "    \"data/unique_registrants.xlsx\",\n",
    "    index=False,\n",
    "    header=True,\n",
    ")"
   ]
  },
  {
   "cell_type": "code",
   "execution_count": null,
   "id": "f7669798",
   "metadata": {},
   "outputs": [],
   "source": []
  }
 ],
 "metadata": {
  "kernelspec": {
   "display_name": "base",
   "language": "python",
   "name": "python3"
  },
  "language_info": {
   "codemirror_mode": {
    "name": "ipython",
    "version": 3
   },
   "file_extension": ".py",
   "mimetype": "text/x-python",
   "name": "python",
   "nbconvert_exporter": "python",
   "pygments_lexer": "ipython3",
   "version": "3.11.10"
  }
 },
 "nbformat": 4,
 "nbformat_minor": 5
}
